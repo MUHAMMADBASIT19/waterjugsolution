{
  "nbformat": 4,
  "nbformat_minor": 0,
  "metadata": {
    "colab": {
      "provenance": []
    },
    "kernelspec": {
      "name": "python3",
      "display_name": "Python 3"
    },
    "language_info": {
      "name": "python"
    }
  },
  "cells": [
    {
      "cell_type": "code",
      "execution_count": 1,
      "metadata": {
        "colab": {
          "base_uri": "https://localhost:8080/"
        },
        "id": "FLQJouFFisXG",
        "outputId": "6fd5f986-cd67-4188-93a8-0a396504a46c"
      },
      "outputs": [
        {
          "output_type": "stream",
          "name": "stdout",
          "text": [
            "BFS Solution path:\n",
            "(0, 0)\n",
            "(4, 0)\n",
            "(1, 3)\n"
          ]
        }
      ],
      "source": [
        "from collections import deque\n",
        "\n",
        "JUG1 = 4\n",
        "JUG2 = 3\n",
        "GOAL = 1\n",
        "\n",
        "def water_jug_bfs():\n",
        "    start = (0, 0)\n",
        "    visited = set()\n",
        "    queue = deque([[start]])\n",
        "\n",
        "    while queue:\n",
        "        path = queue.popleft()\n",
        "        state = path[-1]\n",
        "\n",
        "        if state[0] == GOAL or state[1] == GOAL:\n",
        "            return path\n",
        "\n",
        "        if state in visited:\n",
        "            continue\n",
        "        visited.add(state)\n",
        "\n",
        "        x, y = state\n",
        "\n",
        "        next_states = [\n",
        "            (JUG1, y),\n",
        "            (x, JUG2),\n",
        "            (0, y),\n",
        "            (x, 0),\n",
        "            (x - min(x, JUG2 - y), y + min(x, JUG2 - y)),\n",
        "            (x + min(y, JUG1 - x), y - min(y, JUG1 - x))\n",
        "        ]\n",
        "\n",
        "        for nxt in next_states:\n",
        "            if nxt not in visited:\n",
        "                new_path = list(path)\n",
        "                new_path.append(nxt)\n",
        "                queue.append(new_path)\n",
        "    return None\n",
        "\n",
        "solution = water_jug_bfs()\n",
        "print(\"BFS Solution path:\")\n",
        "for step in solution:\n",
        "    print(step)"
      ]
    }
  ]
}